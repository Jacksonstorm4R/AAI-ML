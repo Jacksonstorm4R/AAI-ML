{
 "cells": [
  {
   "cell_type": "code",
   "execution_count": 2,
   "metadata": {},
   "outputs": [],
   "source": [
    "import numpy as np\n",
    "import pandas as pd\n",
    "from sklearn.utils import resample\n",
    "from sklearn.metrics import accuracy_score\n",
    "from matplotlib import pyplot\n"
   ]
  },
  {
   "cell_type": "code",
   "execution_count": 3,
   "metadata": {},
   "outputs": [
    {
     "data": {
      "text/plain": [
       "array([180, 162, 158, 172, 168, 150, 171, 183, 165, 176])"
      ]
     },
     "execution_count": 3,
     "metadata": {},
     "output_type": "execute_result"
    }
   ],
   "source": [
    "x=np.array([180,162,158,172,168,150,171,183,165,176])\n",
    "x"
   ]
  },
  {
   "cell_type": "code",
   "execution_count": 4,
   "metadata": {},
   "outputs": [],
   "source": [
    "# confidence bootstrap\n",
    "n_iterations=1000 # k\n",
    "n_size =int(len(x)) # sample size (n)"
   ]
  },
  {
   "cell_type": "code",
   "execution_count": 8,
   "metadata": {},
   "outputs": [
    {
     "data": {
      "text/plain": [
       "[170.0, 171.0, 168.0, 165.0, 172.0, 176.0, 165.0, 171.5, 171.5, 171.0]"
      ]
     },
     "execution_count": 8,
     "metadata": {},
     "output_type": "execute_result"
    }
   ],
   "source": [
    "# RUn bootstrap\n",
    "medians=list()\n",
    "for i in range(n_iterations):\n",
    "    s=resample(x,n_samples=n_size);\n",
    "    m=np.median(s)\n",
    "    medians.append(m)\n",
    "medians[:10]"
   ]
  },
  {
   "cell_type": "code",
   "execution_count": 9,
   "metadata": {},
   "outputs": [
    {
     "data": {
      "image/png": "[encoded data removed]",
      "text/plain": [
       "<Figure size 432x288 with 1 Axes>"
      ]
     },
     "metadata": {
      "needs_background": "light"
     },
     "output_type": "display_data"
    }
   ],
   "source": [
    "# plot scores\n",
    "pyplot.hist(medians)\n",
    "pyplot.show()"
   ]
  },
  {
   "cell_type": "code",
   "execution_count": 17,
   "metadata": {},
   "outputs": [
    {
     "name": "stdout",
     "output_type": "stream",
     "text": [
      "161.5\n",
      " So the 95%  CI for median will be will be [161.5, 176.0]\n"
     ]
    }
   ],
   "source": [
    "# confindence intervals\n",
    "alpha=0.95\n",
    "p=((1.0-alpha)/2.0)*100  #2.5%\n",
    "lower=np.percentile(medians,p) # 2.5 percentile\n",
    "print(lower)\n",
    "p=(alpha+((1.0-alpha)/2.0))*100\n",
    "upper=np.percentile(medians,p)\n",
    "print(\" So the 95%  CI for median will be will be {0}\".format(list((lower,upper))))"
   ]
  },
  {
   "cell_type": "code",
   "execution_count": null,
   "metadata": {},
   "outputs": [],
   "source": []
  }
 ],
 "metadata": {
  "kernelspec": {
   "display_name": "Python 3",
   "language": "python",
   "name": "python3"
  }
 },
 "nbformat": 4,
 "nbformat_minor": 2
}
