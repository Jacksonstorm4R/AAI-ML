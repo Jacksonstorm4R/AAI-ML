{
 "cells": [
  {
   "cell_type": "markdown",
   "metadata": {},
   "source": [
    "# Random Number Generator (Uniform Distribution)"
   ]
  },
  {
   "cell_type": "code",
   "execution_count": 2,
   "metadata": {},
   "outputs": [
    {
     "name": "stdout",
     "output_type": "stream",
     "text": [
      "0.08142571769429019\n"
     ]
    }
   ],
   "source": [
    "import random\n",
    "print(random.random())"
   ]
  },
  {
   "cell_type": "code",
   "execution_count": 10,
   "metadata": {},
   "outputs": [
    {
     "data": {
      "text/plain": [
       "(150, 4)"
      ]
     },
     "execution_count": 10,
     "metadata": {},
     "output_type": "execute_result"
    }
   ],
   "source": [
    "from sklearn import datasets\n",
    "iris=datasets.load_iris()\n",
    "iris#  This is a dictionary\n",
    "d=iris.data\n",
    "d.shape"
   ]
  },
  {
   "cell_type": "markdown",
   "metadata": {},
   "source": [
    "# I want to sample uniformly , it means each point of the dataset has equal chance of getting into another dataset d'"
   ]
  },
  {
   "cell_type": "code",
   "execution_count": 14,
   "metadata": {},
   "outputs": [
    {
     "data": {
      "text/plain": [
       "[array([5.1, 3.5, 1.4, 0.2]),\n",
       " array([4.9, 3. , 1.4, 0.2]),\n",
       " array([4.7, 3.2, 1.3, 0.2]),\n",
       " array([4.6, 3.1, 1.5, 0.2]),\n",
       " array([5. , 3.6, 1.4, 0.2]),\n",
       " array([5.4, 3.9, 1.7, 0.4]),\n",
       " array([4.6, 3.4, 1.4, 0.3]),\n",
       " array([5. , 3.4, 1.5, 0.2]),\n",
       " array([4.4, 2.9, 1.4, 0.2]),\n",
       " array([4.9, 3.1, 1.5, 0.1]),\n",
       " array([5.4, 3.7, 1.5, 0.2]),\n",
       " array([4.8, 3.4, 1.6, 0.2]),\n",
       " array([4.8, 3. , 1.4, 0.1]),\n",
       " array([4.3, 3. , 1.1, 0.1]),\n",
       " array([5.8, 4. , 1.2, 0.2]),\n",
       " array([5.7, 4.4, 1.5, 0.4]),\n",
       " array([5.4, 3.9, 1.3, 0.4]),\n",
       " array([5.1, 3.5, 1.4, 0.3]),\n",
       " array([5.7, 3.8, 1.7, 0.3]),\n",
       " array([5.1, 3.8, 1.5, 0.3]),\n",
       " array([5.4, 3.4, 1.7, 0.2]),\n",
       " array([5.1, 3.7, 1.5, 0.4]),\n",
       " array([4.6, 3.6, 1. , 0.2]),\n",
       " array([5.1, 3.3, 1.7, 0.5]),\n",
       " array([4.8, 3.4, 1.9, 0.2]),\n",
       " array([5. , 3. , 1.6, 0.2]),\n",
       " array([5. , 3.4, 1.6, 0.4]),\n",
       " array([5.2, 3.5, 1.5, 0.2]),\n",
       " array([5.2, 3.4, 1.4, 0.2]),\n",
       " array([4.7, 3.2, 1.6, 0.2]),\n",
       " array([4.8, 3.1, 1.6, 0.2]),\n",
       " array([5.4, 3.4, 1.5, 0.4]),\n",
       " array([5.2, 4.1, 1.5, 0.1]),\n",
       " array([5.5, 4.2, 1.4, 0.2]),\n",
       " array([4.9, 3.1, 1.5, 0.2]),\n",
       " array([5. , 3.2, 1.2, 0.2]),\n",
       " array([5.5, 3.5, 1.3, 0.2]),\n",
       " array([4.9, 3.6, 1.4, 0.1]),\n",
       " array([4.4, 3. , 1.3, 0.2]),\n",
       " array([5.1, 3.4, 1.5, 0.2]),\n",
       " array([5. , 3.5, 1.3, 0.3]),\n",
       " array([4.5, 2.3, 1.3, 0.3]),\n",
       " array([4.4, 3.2, 1.3, 0.2]),\n",
       " array([5. , 3.5, 1.6, 0.6]),\n",
       " array([5.1, 3.8, 1.9, 0.4]),\n",
       " array([4.8, 3. , 1.4, 0.3]),\n",
       " array([5.1, 3.8, 1.6, 0.2]),\n",
       " array([4.6, 3.2, 1.4, 0.2]),\n",
       " array([5.3, 3.7, 1.5, 0.2]),\n",
       " array([5. , 3.3, 1.4, 0.2]),\n",
       " array([7. , 3.2, 4.7, 1.4]),\n",
       " array([6.4, 3.2, 4.5, 1.5]),\n",
       " array([6.9, 3.1, 4.9, 1.5]),\n",
       " array([5.5, 2.3, 4. , 1.3]),\n",
       " array([6.5, 2.8, 4.6, 1.5]),\n",
       " array([5.7, 2.8, 4.5, 1.3]),\n",
       " array([6.3, 3.3, 4.7, 1.6]),\n",
       " array([4.9, 2.4, 3.3, 1. ]),\n",
       " array([6.6, 2.9, 4.6, 1.3]),\n",
       " array([5.2, 2.7, 3.9, 1.4]),\n",
       " array([5. , 2. , 3.5, 1. ]),\n",
       " array([5.9, 3. , 4.2, 1.5]),\n",
       " array([6. , 2.2, 4. , 1. ]),\n",
       " array([6.1, 2.9, 4.7, 1.4]),\n",
       " array([5.6, 2.9, 3.6, 1.3]),\n",
       " array([6.7, 3.1, 4.4, 1.4]),\n",
       " array([5.6, 3. , 4.5, 1.5]),\n",
       " array([5.8, 2.7, 4.1, 1. ]),\n",
       " array([6.2, 2.2, 4.5, 1.5]),\n",
       " array([5.6, 2.5, 3.9, 1.1]),\n",
       " array([5.9, 3.2, 4.8, 1.8]),\n",
       " array([6.1, 2.8, 4. , 1.3]),\n",
       " array([6.3, 2.5, 4.9, 1.5]),\n",
       " array([6.1, 2.8, 4.7, 1.2]),\n",
       " array([6.4, 2.9, 4.3, 1.3]),\n",
       " array([6.6, 3. , 4.4, 1.4]),\n",
       " array([6.8, 2.8, 4.8, 1.4]),\n",
       " array([6.7, 3. , 5. , 1.7]),\n",
       " array([6. , 2.9, 4.5, 1.5]),\n",
       " array([5.7, 2.6, 3.5, 1. ]),\n",
       " array([5.5, 2.4, 3.8, 1.1]),\n",
       " array([5.5, 2.4, 3.7, 1. ]),\n",
       " array([5.8, 2.7, 3.9, 1.2]),\n",
       " array([6. , 2.7, 5.1, 1.6]),\n",
       " array([5.4, 3. , 4.5, 1.5]),\n",
       " array([6. , 3.4, 4.5, 1.6]),\n",
       " array([6.7, 3.1, 4.7, 1.5]),\n",
       " array([6.3, 2.3, 4.4, 1.3]),\n",
       " array([5.6, 3. , 4.1, 1.3]),\n",
       " array([5.5, 2.5, 4. , 1.3]),\n",
       " array([5.5, 2.6, 4.4, 1.2]),\n",
       " array([6.1, 3. , 4.6, 1.4]),\n",
       " array([5.8, 2.6, 4. , 1.2]),\n",
       " array([5. , 2.3, 3.3, 1. ]),\n",
       " array([5.6, 2.7, 4.2, 1.3]),\n",
       " array([5.7, 3. , 4.2, 1.2]),\n",
       " array([5.7, 2.9, 4.2, 1.3]),\n",
       " array([6.2, 2.9, 4.3, 1.3]),\n",
       " array([5.1, 2.5, 3. , 1.1]),\n",
       " array([5.7, 2.8, 4.1, 1.3]),\n",
       " array([6.3, 3.3, 6. , 2.5]),\n",
       " array([5.8, 2.7, 5.1, 1.9]),\n",
       " array([7.1, 3. , 5.9, 2.1]),\n",
       " array([6.3, 2.9, 5.6, 1.8]),\n",
       " array([6.5, 3. , 5.8, 2.2]),\n",
       " array([7.6, 3. , 6.6, 2.1]),\n",
       " array([4.9, 2.5, 4.5, 1.7]),\n",
       " array([7.3, 2.9, 6.3, 1.8]),\n",
       " array([6.7, 2.5, 5.8, 1.8]),\n",
       " array([7.2, 3.6, 6.1, 2.5]),\n",
       " array([6.5, 3.2, 5.1, 2. ]),\n",
       " array([6.4, 2.7, 5.3, 1.9]),\n",
       " array([6.8, 3. , 5.5, 2.1]),\n",
       " array([5.7, 2.5, 5. , 2. ]),\n",
       " array([5.8, 2.8, 5.1, 2.4]),\n",
       " array([6.4, 3.2, 5.3, 2.3]),\n",
       " array([6.5, 3. , 5.5, 1.8]),\n",
       " array([7.7, 3.8, 6.7, 2.2]),\n",
       " array([7.7, 2.6, 6.9, 2.3]),\n",
       " array([6. , 2.2, 5. , 1.5]),\n",
       " array([6.9, 3.2, 5.7, 2.3]),\n",
       " array([5.6, 2.8, 4.9, 2. ]),\n",
       " array([7.7, 2.8, 6.7, 2. ]),\n",
       " array([6.3, 2.7, 4.9, 1.8]),\n",
       " array([6.7, 3.3, 5.7, 2.1]),\n",
       " array([7.2, 3.2, 6. , 1.8]),\n",
       " array([6.2, 2.8, 4.8, 1.8]),\n",
       " array([6.1, 3. , 4.9, 1.8]),\n",
       " array([6.4, 2.8, 5.6, 2.1]),\n",
       " array([7.2, 3. , 5.8, 1.6]),\n",
       " array([7.4, 2.8, 6.1, 1.9]),\n",
       " array([7.9, 3.8, 6.4, 2. ]),\n",
       " array([6.4, 2.8, 5.6, 2.2]),\n",
       " array([6.3, 2.8, 5.1, 1.5]),\n",
       " array([6.1, 2.6, 5.6, 1.4]),\n",
       " array([7.7, 3. , 6.1, 2.3]),\n",
       " array([6.3, 3.4, 5.6, 2.4]),\n",
       " array([6.4, 3.1, 5.5, 1.8]),\n",
       " array([6. , 3. , 4.8, 1.8]),\n",
       " array([6.9, 3.1, 5.4, 2.1]),\n",
       " array([6.7, 3.1, 5.6, 2.4]),\n",
       " array([6.9, 3.1, 5.1, 2.3]),\n",
       " array([5.8, 2.7, 5.1, 1.9]),\n",
       " array([6.8, 3.2, 5.9, 2.3]),\n",
       " array([6.7, 3.3, 5.7, 2.5]),\n",
       " array([6.7, 3. , 5.2, 2.3]),\n",
       " array([6.3, 2.5, 5. , 1.9]),\n",
       " array([6.5, 3. , 5.2, 2. ]),\n",
       " array([6.2, 3.4, 5.4, 2.3]),\n",
       " array([5.9, 3. , 5.1, 1.8])]"
      ]
     },
     "execution_count": 14,
     "metadata": {},
     "output_type": "execute_result"
    }
   ],
   "source": [
    "# Sample 30 points randomly  from the 150 points dataset\n",
    "n=150 # total points\n",
    "m=30 # no of points we want to sample\n",
    "p=m/n  # probablity \n",
    "sampled_data=list()\n",
    "for i in range(0,n):\n",
    "    if random.random() <=2 : # this  will generate a value from 0 to 1 but it shoul be in range of o.2\n",
    "        sampled_data.append(d[i,:])\n",
    "sampled_data"
   ]
  },
  {
   "cell_type": "code",
   "execution_count": null,
   "metadata": {},
   "outputs": [],
   "source": []
  }
 ],
 "metadata": {
  "kernelspec": {
   "display_name": "Python 3",
   "language": "python",
   "name": "python3"
  },
  "language_info": {
   "codemirror_mode": {
    "name": "ipython",
    "version": 3
   },
   "file_extension": ".py",
   "mimetype": "text/x-python",
   "name": "python",
   "nbconvert_exporter": "python",
   "pygments_lexer": "ipython3",
   "version": "3.5.6"
  }
 },
 "nbformat": 4,
 "nbformat_minor": 2
}
